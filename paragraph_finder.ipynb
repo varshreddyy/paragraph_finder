{
 "cells": [
  {
   "cell_type": "code",
   "execution_count": 1,
   "metadata": {
    "colab": {
     "base_uri": "https://localhost:8080/"
    },
    "id": "NJdIwKJ5b9nS",
    "outputId": "50eb1b3c-ac6a-437a-f5d9-dbf0d2aeb95c"
   },
   "outputs": [
    {
     "name": "stdout",
     "output_type": "stream",
     "text": [
      "\u001b[2K   \u001b[90m━━━━━━━━━━━━━━━━━━━━━━━━━━━━━━━━━━━━━━━━\u001b[0m \u001b[32m363.4/363.4 MB\u001b[0m \u001b[31m4.4 MB/s\u001b[0m eta \u001b[36m0:00:00\u001b[0m\n",
      "\u001b[2K   \u001b[90m━━━━━━━━━━━━━━━━━━━━━━━━━━━━━━━━━━━━━━━━\u001b[0m \u001b[32m13.8/13.8 MB\u001b[0m \u001b[31m73.4 MB/s\u001b[0m eta \u001b[36m0:00:00\u001b[0m\n",
      "\u001b[2K   \u001b[90m━━━━━━━━━━━━━━━━━━━━━━━━━━━━━━━━━━━━━━━━\u001b[0m \u001b[32m24.6/24.6 MB\u001b[0m \u001b[31m51.6 MB/s\u001b[0m eta \u001b[36m0:00:00\u001b[0m\n",
      "\u001b[2K   \u001b[90m━━━━━━━━━━━━━━━━━━━━━━━━━━━━━━━━━━━━━━━━\u001b[0m \u001b[32m883.7/883.7 kB\u001b[0m \u001b[31m31.9 MB/s\u001b[0m eta \u001b[36m0:00:00\u001b[0m\n",
      "\u001b[2K   \u001b[90m━━━━━━━━━━━━━━━━━━━━━━━━━━━━━━━━━━━━━━━━\u001b[0m \u001b[32m664.8/664.8 MB\u001b[0m \u001b[31m2.8 MB/s\u001b[0m eta \u001b[36m0:00:00\u001b[0m\n",
      "\u001b[2K   \u001b[90m━━━━━━━━━━━━━━━━━━━━━━━━━━━━━━━━━━━━━━━━\u001b[0m \u001b[32m211.5/211.5 MB\u001b[0m \u001b[31m5.7 MB/s\u001b[0m eta \u001b[36m0:00:00\u001b[0m\n",
      "\u001b[2K   \u001b[90m━━━━━━━━━━━━━━━━━━━━━━━━━━━━━━━━━━━━━━━━\u001b[0m \u001b[32m56.3/56.3 MB\u001b[0m \u001b[31m16.2 MB/s\u001b[0m eta \u001b[36m0:00:00\u001b[0m\n",
      "\u001b[2K   \u001b[90m━━━━━━━━━━━━━━━━━━━━━━━━━━━━━━━━━━━━━━━━\u001b[0m \u001b[32m127.9/127.9 MB\u001b[0m \u001b[31m7.3 MB/s\u001b[0m eta \u001b[36m0:00:00\u001b[0m\n",
      "\u001b[2K   \u001b[90m━━━━━━━━━━━━━━━━━━━━━━━━━━━━━━━━━━━━━━━━\u001b[0m \u001b[32m207.5/207.5 MB\u001b[0m \u001b[31m5.6 MB/s\u001b[0m eta \u001b[36m0:00:00\u001b[0m\n",
      "\u001b[2K   \u001b[90m━━━━━━━━━━━━━━━━━━━━━━━━━━━━━━━━━━━━━━━━\u001b[0m \u001b[32m21.1/21.1 MB\u001b[0m \u001b[31m94.1 MB/s\u001b[0m eta \u001b[36m0:00:00\u001b[0m\n",
      "\u001b[?25h"
     ]
    }
   ],
   "source": [
    "!pip install -q sentence-transformers"
   ]
  },
  {
   "cell_type": "code",
   "execution_count": 2,
   "metadata": {
    "id": "ZPdBb6RZccyG"
   },
   "outputs": [],
   "source": [
    "from sentence_transformers import SentenceTransformer, util\n",
    "import numpy as np"
   ]
  },
  {
   "cell_type": "code",
   "execution_count": 3,
   "metadata": {
    "colab": {
     "base_uri": "https://localhost:8080/",
     "height": 493,
     "referenced_widgets": [
      "d73fd48626dc455db1bd85edb0970c71",
      "35aa01cc67af4753a70c49b937e479a7",
      "dd71a8c440e8495da5426244c1a42137",
      "01efe0a1eeda45aea2722b600f391391",
      "ba58fd86907e493fa1cdee9190c6964c",
      "4e850a145d44422889e0480215eba273",
      "fc9e9666251b4610a178bda68fa5d48a",
      "42fdf1f907c0455688b3be711d056aac",
      "95990bdbb8a84f2c9b57cec0c1c1747c",
      "eb964de6f719434e83aca5ac54a76625",
      "117948012e8142eaace6764417114415",
      "8e5e7ce9c4a645479e39c35a886f5614",
      "502c3282bc684e56842b3c61467f094a",
      "472579ac8bc942d783553c5ecf56784d",
      "78496e87f9fc45188a2bac90b33df8e7",
      "9ea607364edb4f16b28b973f0547c447",
      "db035d798af948b3ac764dbe90833b48",
      "06e84622f5554d4a9867f634d1782d56",
      "0690b60a9061414a8fc6991913351cbf",
      "ff4b38cf917d40fca4f3555bd737be8a",
      "2a288fa61c1b44c48cf4843ab7f2f7bd",
      "d23fb96725614d639127034b101053ae",
      "4175a15161ee4f44b3d8da205477af6d",
      "276d03e754fc46a79ec4aac724d97319",
      "a61023aae69b42029c0cf792c4a960eb",
      "0ea5abbd76b14a23a0d49b2413cce71e",
      "8dea8282f9bd4f3b842763d6fa1c812b",
      "5a095889db3b44ca9bcc6b819d9fde28",
      "a932fe3c775d4ebcbd8ba6f83b4f99d7",
      "179374796196439587180d3f5ae11c55",
      "5f6088463794487f9390bf42a5fed6fb",
      "68ef24982b1c4462880afd180672adda",
      "8b3c5d3d88ab4c3887ec4a8246bc8070",
      "42e110389e474e3aa61f68fa9f71991c",
      "16daa486101d42c1950d1bdb26a1026f",
      "f6b23664846a4b50951deb99a35f5d1a",
      "0734deda4200426ea2ccf48c5c5afcd6",
      "4c957557dc25407fb5455d995570ac3c",
      "3b0dcc8b70904fc4948b1c491c529de3",
      "c81c6dd29afc4dedb3c5bc582d439290",
      "3c397cd6a5df4bac9536d02046254c5f",
      "913fe268b15c477dbcd85e7dab344271",
      "3212f61d56d346b183c782e09ecdfb38",
      "c17cde7f3ef64637880848758e32c163",
      "2f6794e816314a40b07828fbae48c054",
      "ce3f3b4ffb1c481ab13e0a01cc3f9e0c",
      "3985895de4414e689e6adcdc84d1ba1c",
      "ee7b03e3536d445b80fba33d01914766",
      "4013b60eb2ac4a77af3daac804a9eece",
      "771b8e4a78704f079bcae84f53aeed19",
      "77fa857316114b6f9d4b315d470f2b13",
      "cca6b37e9f644c72a67f899a4bf5ac23",
      "a06b92068af44df28eed90da8f0107cf",
      "5701fde1ba324994a0de2bc4d45fdfd3",
      "a797b416ac034996b44d0baa6b49953c",
      "60d1647207eb4010a514c26ec4d92dbd",
      "7096ae50bf9e458d9369bc0792f55738",
      "a05872f0c86d4ec786a2d6fa18ef777f",
      "578a6fa1002c401f842b31369bd20f62",
      "ddbf34cd8a2a4c01a66c9814a9e6d19e",
      "ff2f5a6efffc48749b2ebed1ebfbb626",
      "da28386d93b547eeb5c66b5dcfc3a59d",
      "516b2c8d23b44f0d857e43048dfda007",
      "712c5f564f094f22b31a8b7344312fd5",
      "eebf441a5205476f8f862c39583d3c57",
      "c6770811e5e54307a046c39c8619cbfa",
      "1b15598212e947bbb03fd4d876ec57d9",
      "a3d829b1381440fa804fa0fcb115cd74",
      "79d33cecb28748eeba0908bc894b4d74",
      "c9dd041ecff84c00bf0dc11a91621696",
      "978d723aa2fb49bc91eb70b2d13da3e6",
      "4172f32f054e43748b989790df62fd1f",
      "c43e9910302a47a9acf8b71383d44ed0",
      "459ededccf054aa4b3f1f8a73d966dcd",
      "a52525e3b1bd4eb6b47e13b1b0a7284e",
      "099a97211b3549558db67c7fd89ffebf",
      "7d6d420c3fc2474a8fa5d607b7b2f338",
      "0286ebfefc2a4df0a600818a9bad7f4d",
      "e1cd0a88df7e4963949849f9136d42e3",
      "8f00bb51bc024e2b9baf00dcffd4759c",
      "aa5e1dc41af14c209cb77c9d23ee504b",
      "5505b9ba43ee48ba8edf947445d56b5e",
      "8e88ac1027774cf8bf93bc28bb0c5dcb",
      "b78831ec79fb46a19c99e7762485e830",
      "750e3e0a83bb4810a4366992e60da9c1",
      "fea7182a848f46ac96c7fd348211eff6",
      "62875f94dac64b37b4011ee499f08a20",
      "2a8690e79b544cfaa39dc94655d89ea4",
      "76b09e505f8b4cb3994bfdfd5e9c349d",
      "8457b29adb364d488eaeb4b9e306a7a9",
      "ab6d45b34c97481fa037044c740f5a56",
      "285cd2641a7746d3996f6a4976443544",
      "833031c6a72d458f94a785175283f943",
      "fd75620e47a640a2931973eb44a361c9",
      "a07574f2661b48f59db73c8302f6575d",
      "144861c299f5418590b505efe4481ffb",
      "ea9d2f7aa9da4b7f86e22165a7a552ff",
      "d7059a2bc427475c9f1b352524ae4055",
      "8d28345b910349c98cfc478ee2371752",
      "6d217f3145624d52bd44886e4035a22b",
      "01708e86687248f6a994a35c88152462",
      "97da8e9d360749929f045e0467823a7b",
      "286a1b9b905f40a7a864f6fe61a03a33",
      "38f08eab43294e0080e66d8ad2b299c4",
      "be326bc7580c492daf13f6467b083964",
      "82bfbd69b3f44dbd8540b9e620e58d71",
      "feb6c180a54746b8a8bd54c09218e4d1",
      "fe7c96a363154bc3ac8dbd433b0526eb",
      "0a16df9270ad4f15bca8628f3a4b1c90",
      "48ce7edef5f44186a25b9fa0bf3eba81",
      "09517d329cfa4f9b8ae79637e2469a73",
      "3d17ab57e072484089643d81ab121806",
      "c7197bff60194e978a49527468b64af5",
      "bc4b8efa97874c0c8d5ce9e891b5d8e4",
      "143dc99892044a538a6acbc97146404d",
      "427e79786aee43bc9b91de0cde27ed77",
      "c95e1e04e394417d9bcf1156fd5cdce7",
      "5d031d3128b84d7b983c482b8ff57a3a",
      "0e0c941a021a4703a00d53f63f4f81c6",
      "eea81e62ca6d4943abbe37872e0d0ecf",
      "49983515680b4abbad35d2858613fcc9"
     ]
    },
    "id": "jFJuevVqc8-1",
    "outputId": "c89db97c-cbbd-4df4-fd45-a9c34a270dee"
   },
   "outputs": [
    {
     "name": "stderr",
     "output_type": "stream",
     "text": [
      "/usr/local/lib/python3.11/dist-packages/huggingface_hub/utils/_auth.py:94: UserWarning: \n",
      "The secret `HF_TOKEN` does not exist in your Colab secrets.\n",
      "To authenticate with the Hugging Face Hub, create a token in your settings tab (https://huggingface.co/settings/tokens), set it as secret in your Google Colab and restart your session.\n",
      "You will be able to reuse this secret in all of your notebooks.\n",
      "Please note that authentication is recommended but still optional to access public models or datasets.\n",
      "  warnings.warn(\n"
     ]
    },
    {
     "data": {
      "application/vnd.jupyter.widget-view+json": {
       "model_id": "d73fd48626dc455db1bd85edb0970c71",
       "version_major": 2,
       "version_minor": 0
      },
      "text/plain": [
       "modules.json:   0%|          | 0.00/349 [00:00<?, ?B/s]"
      ]
     },
     "metadata": {},
     "output_type": "display_data"
    },
    {
     "data": {
      "application/vnd.jupyter.widget-view+json": {
       "model_id": "8e5e7ce9c4a645479e39c35a886f5614",
       "version_major": 2,
       "version_minor": 0
      },
      "text/plain": [
       "config_sentence_transformers.json:   0%|          | 0.00/116 [00:00<?, ?B/s]"
      ]
     },
     "metadata": {},
     "output_type": "display_data"
    },
    {
     "data": {
      "application/vnd.jupyter.widget-view+json": {
       "model_id": "4175a15161ee4f44b3d8da205477af6d",
       "version_major": 2,
       "version_minor": 0
      },
      "text/plain": [
       "README.md:   0%|          | 0.00/10.5k [00:00<?, ?B/s]"
      ]
     },
     "metadata": {},
     "output_type": "display_data"
    },
    {
     "data": {
      "application/vnd.jupyter.widget-view+json": {
       "model_id": "42e110389e474e3aa61f68fa9f71991c",
       "version_major": 2,
       "version_minor": 0
      },
      "text/plain": [
       "sentence_bert_config.json:   0%|          | 0.00/53.0 [00:00<?, ?B/s]"
      ]
     },
     "metadata": {},
     "output_type": "display_data"
    },
    {
     "data": {
      "application/vnd.jupyter.widget-view+json": {
       "model_id": "2f6794e816314a40b07828fbae48c054",
       "version_major": 2,
       "version_minor": 0
      },
      "text/plain": [
       "config.json:   0%|          | 0.00/612 [00:00<?, ?B/s]"
      ]
     },
     "metadata": {},
     "output_type": "display_data"
    },
    {
     "data": {
      "application/vnd.jupyter.widget-view+json": {
       "model_id": "60d1647207eb4010a514c26ec4d92dbd",
       "version_major": 2,
       "version_minor": 0
      },
      "text/plain": [
       "model.safetensors:   0%|          | 0.00/90.9M [00:00<?, ?B/s]"
      ]
     },
     "metadata": {},
     "output_type": "display_data"
    },
    {
     "data": {
      "application/vnd.jupyter.widget-view+json": {
       "model_id": "1b15598212e947bbb03fd4d876ec57d9",
       "version_major": 2,
       "version_minor": 0
      },
      "text/plain": [
       "tokenizer_config.json:   0%|          | 0.00/350 [00:00<?, ?B/s]"
      ]
     },
     "metadata": {},
     "output_type": "display_data"
    },
    {
     "data": {
      "application/vnd.jupyter.widget-view+json": {
       "model_id": "0286ebfefc2a4df0a600818a9bad7f4d",
       "version_major": 2,
       "version_minor": 0
      },
      "text/plain": [
       "vocab.txt:   0%|          | 0.00/232k [00:00<?, ?B/s]"
      ]
     },
     "metadata": {},
     "output_type": "display_data"
    },
    {
     "data": {
      "application/vnd.jupyter.widget-view+json": {
       "model_id": "76b09e505f8b4cb3994bfdfd5e9c349d",
       "version_major": 2,
       "version_minor": 0
      },
      "text/plain": [
       "tokenizer.json:   0%|          | 0.00/466k [00:00<?, ?B/s]"
      ]
     },
     "metadata": {},
     "output_type": "display_data"
    },
    {
     "data": {
      "application/vnd.jupyter.widget-view+json": {
       "model_id": "6d217f3145624d52bd44886e4035a22b",
       "version_major": 2,
       "version_minor": 0
      },
      "text/plain": [
       "special_tokens_map.json:   0%|          | 0.00/112 [00:00<?, ?B/s]"
      ]
     },
     "metadata": {},
     "output_type": "display_data"
    },
    {
     "data": {
      "application/vnd.jupyter.widget-view+json": {
       "model_id": "09517d329cfa4f9b8ae79637e2469a73",
       "version_major": 2,
       "version_minor": 0
      },
      "text/plain": [
       "config.json:   0%|          | 0.00/190 [00:00<?, ?B/s]"
      ]
     },
     "metadata": {},
     "output_type": "display_data"
    }
   ],
   "source": [
    "model = SentenceTransformer('all-MiniLM-L6-v2')"
   ]
  },
  {
   "cell_type": "code",
   "execution_count": 19,
   "metadata": {
    "id": "kUlZLCcndfZA"
   },
   "outputs": [],
   "source": [
    "def find_paragraphs(query, paragraphs_text, top_k=3):\n",
    "    paragraphs = [p.strip() for p in paragraphs_text.strip().split('\\n') if p.strip()]\n",
    "    query_emb = model.encode(query, convert_to_tensor=True)\n",
    "    para_embs = model.encode(paragraphs, convert_to_tensor=True)\n",
    "    scores = util.pytorch_cos_sim(query_emb, para_embs)[0]\n",
    "    top_results = sorted(zip(paragraphs, scores), key=lambda x: x[1], reverse=True)[:top_k]\n",
    "\n",
    "    return \"\\n\\n\".join([\n",
    "    f\"{i+1}{'st' if i==0 else 'nd' if i==1 else 'rd' if i==2 else 'th'} most relevant:\\n{para}\"\n",
    "    for i, (para, _) in enumerate(top_results)\n",
    "])\n"
   ]
  },
  {
   "cell_type": "code",
   "execution_count": 20,
   "metadata": {
    "colab": {
     "base_uri": "https://localhost:8080/",
     "height": 611
    },
    "id": "rmOBykIZgTVW",
    "outputId": "a4a5f3ba-fcfb-4dcf-c844-23eaece76669"
   },
   "outputs": [
    {
     "name": "stdout",
     "output_type": "stream",
     "text": [
      "Colab notebook detected. To show errors in colab notebook, set debug=True in launch()\n",
      "* Running on public URL: https://ab90c5875a32f8995a.gradio.live\n",
      "\n",
      "This share link expires in 1 week. For free permanent hosting and GPU upgrades, run `gradio deploy` from the terminal in the working directory to deploy to Hugging Face Spaces (https://huggingface.co/spaces)\n"
     ]
    },
    {
     "data": {
      "text/html": [
       "<div><iframe src=\"https://ab90c5875a32f8995a.gradio.live\" width=\"100%\" height=\"500\" allow=\"autoplay; camera; microphone; clipboard-read; clipboard-write;\" frameborder=\"0\" allowfullscreen></iframe></div>"
      ],
      "text/plain": [
       "<IPython.core.display.HTML object>"
      ]
     },
     "metadata": {},
     "output_type": "display_data"
    },
    {
     "data": {
      "text/plain": []
     },
     "execution_count": 20,
     "metadata": {},
     "output_type": "execute_result"
    }
   ],
   "source": [
    "iface = gr.Interface(\n",
    "    fn=find_paragraphs,\n",
    "    inputs=[\n",
    "        gr.Textbox(label=\"Your Question\", placeholder=\"e.g. What is deep learning?\", lines=1),\n",
    "        gr.Textbox(label=\"Paragraphs\", placeholder=\"Enter multiple paragraphs, one per line\", lines=10),\n",
    "        gr.Slider(minimum=1, maximum=10, value=3, label=\"Top Matches\")\n",
    "    ],\n",
    "    outputs=\"text\",\n",
    "    title=\"Paragraph Finder\",\n",
    "    description=\"Paste your paragraphs and ask a question. The tool will return the most relevant answers.\"\n",
    ")\n",
    "\n",
    "iface.launch(share=True)"
   ]
  },
  {
   "cell_type": "code",
   "execution_count": 1,
   "metadata": {
    "colab": {
     "base_uri": "https://localhost:8080/"
    },
    "id": "8bBomywygyE2",
    "outputId": "c5d46be0-3ad7-4ded-a0f6-f5dd448515ff"
   },
   "outputs": [
    {
     "name": "stdout",
     "output_type": "stream",
     "text": [
      "Collecting nbstripout\n",
      "  Downloading nbstripout-0.8.1-py2.py3-none-any.whl.metadata (19 kB)\n",
      "Requirement already satisfied: nbformat in /usr/local/lib/python3.11/dist-packages (from nbstripout) (5.10.4)\n",
      "Requirement already satisfied: fastjsonschema>=2.15 in /usr/local/lib/python3.11/dist-packages (from nbformat->nbstripout) (2.21.1)\n",
      "Requirement already satisfied: jsonschema>=2.6 in /usr/local/lib/python3.11/dist-packages (from nbformat->nbstripout) (4.24.0)\n",
      "Requirement already satisfied: jupyter-core!=5.0.*,>=4.12 in /usr/local/lib/python3.11/dist-packages (from nbformat->nbstripout) (5.8.1)\n",
      "Requirement already satisfied: traitlets>=5.1 in /usr/local/lib/python3.11/dist-packages (from nbformat->nbstripout) (5.7.1)\n",
      "Requirement already satisfied: attrs>=22.2.0 in /usr/local/lib/python3.11/dist-packages (from jsonschema>=2.6->nbformat->nbstripout) (25.3.0)\n",
      "Requirement already satisfied: jsonschema-specifications>=2023.03.6 in /usr/local/lib/python3.11/dist-packages (from jsonschema>=2.6->nbformat->nbstripout) (2025.4.1)\n",
      "Requirement already satisfied: referencing>=0.28.4 in /usr/local/lib/python3.11/dist-packages (from jsonschema>=2.6->nbformat->nbstripout) (0.36.2)\n",
      "Requirement already satisfied: rpds-py>=0.7.1 in /usr/local/lib/python3.11/dist-packages (from jsonschema>=2.6->nbformat->nbstripout) (0.25.1)\n",
      "Requirement already satisfied: platformdirs>=2.5 in /usr/local/lib/python3.11/dist-packages (from jupyter-core!=5.0.*,>=4.12->nbformat->nbstripout) (4.3.8)\n",
      "Requirement already satisfied: typing-extensions>=4.4.0 in /usr/local/lib/python3.11/dist-packages (from referencing>=0.28.4->jsonschema>=2.6->nbformat->nbstripout) (4.14.0)\n",
      "Downloading nbstripout-0.8.1-py2.py3-none-any.whl (16 kB)\n",
      "Installing collected packages: nbstripout\n",
      "Successfully installed nbstripout-0.8.1\n"
     ]
    }
   ],
   "source": [
    "!pip install nbstripout"
   ]
  },
  {
   "cell_type": "code",
   "execution_count": 3,
   "metadata": {
    "id": "DdMB3ihz3-ZM"
   },
   "outputs": [],
   "source": [
    "notebook_name = \"paragraph_finder.ipynb\""
   ]
  },
  {
   "cell_type": "code",
   "execution_count": 4,
   "metadata": {
    "colab": {
     "base_uri": "https://localhost:8080/",
     "height": 280
    },
    "id": "DY37NY9I4Ix_",
    "outputId": "779fc10c-c079-42ad-fec9-8908f318b8ee"
   },
   "outputs": [
    {
     "ename": "FileNotFoundError",
     "evalue": "Cannot find file: paragraph_finder.ipynb",
     "output_type": "error",
     "traceback": [
      "\u001b[0;31m---------------------------------------------------------------------------\u001b[0m",
      "\u001b[0;31mFileNotFoundError\u001b[0m                         Traceback (most recent call last)",
      "\u001b[0;32m/tmp/ipython-input-4-203419181.py\u001b[0m in \u001b[0;36m<cell line: 0>\u001b[0;34m()\u001b[0m\n\u001b[1;32m      1\u001b[0m \u001b[0;32mfrom\u001b[0m \u001b[0mgoogle\u001b[0m\u001b[0;34m.\u001b[0m\u001b[0mcolab\u001b[0m \u001b[0;32mimport\u001b[0m \u001b[0mfiles\u001b[0m\u001b[0;34m\u001b[0m\u001b[0;34m\u001b[0m\u001b[0m\n\u001b[0;32m----> 2\u001b[0;31m \u001b[0mfiles\u001b[0m\u001b[0;34m.\u001b[0m\u001b[0mdownload\u001b[0m\u001b[0;34m(\u001b[0m\u001b[0mnotebook_name\u001b[0m\u001b[0;34m)\u001b[0m\u001b[0;34m\u001b[0m\u001b[0;34m\u001b[0m\u001b[0m\n\u001b[0m",
      "\u001b[0;32m/usr/local/lib/python3.11/dist-packages/google/colab/files.py\u001b[0m in \u001b[0;36mdownload\u001b[0;34m(filename)\u001b[0m\n\u001b[1;32m    231\u001b[0m   \u001b[0;32mif\u001b[0m \u001b[0;32mnot\u001b[0m \u001b[0m_os\u001b[0m\u001b[0;34m.\u001b[0m\u001b[0mpath\u001b[0m\u001b[0;34m.\u001b[0m\u001b[0mexists\u001b[0m\u001b[0;34m(\u001b[0m\u001b[0mfilename\u001b[0m\u001b[0;34m)\u001b[0m\u001b[0;34m:\u001b[0m\u001b[0;34m\u001b[0m\u001b[0;34m\u001b[0m\u001b[0m\n\u001b[1;32m    232\u001b[0m     \u001b[0mmsg\u001b[0m \u001b[0;34m=\u001b[0m \u001b[0;34m'Cannot find file: {}'\u001b[0m\u001b[0;34m.\u001b[0m\u001b[0mformat\u001b[0m\u001b[0;34m(\u001b[0m\u001b[0mfilename\u001b[0m\u001b[0;34m)\u001b[0m\u001b[0;34m\u001b[0m\u001b[0;34m\u001b[0m\u001b[0m\n\u001b[0;32m--> 233\u001b[0;31m     \u001b[0;32mraise\u001b[0m \u001b[0mFileNotFoundError\u001b[0m\u001b[0;34m(\u001b[0m\u001b[0mmsg\u001b[0m\u001b[0;34m)\u001b[0m  \u001b[0;31m# pylint: disable=undefined-variable\u001b[0m\u001b[0;34m\u001b[0m\u001b[0;34m\u001b[0m\u001b[0m\n\u001b[0m\u001b[1;32m    234\u001b[0m \u001b[0;34m\u001b[0m\u001b[0m\n\u001b[1;32m    235\u001b[0m   \u001b[0mcomm_manager\u001b[0m \u001b[0;34m=\u001b[0m \u001b[0m_IPython\u001b[0m\u001b[0;34m.\u001b[0m\u001b[0mget_ipython\u001b[0m\u001b[0;34m(\u001b[0m\u001b[0;34m)\u001b[0m\u001b[0;34m.\u001b[0m\u001b[0mkernel\u001b[0m\u001b[0;34m.\u001b[0m\u001b[0mcomm_manager\u001b[0m\u001b[0;34m\u001b[0m\u001b[0;34m\u001b[0m\u001b[0m\n",
      "\u001b[0;31mFileNotFoundError\u001b[0m: Cannot find file: paragraph_finder.ipynb"
     ]
    }
   ],
   "source": [
    "from google.colab import files\n",
    "files.download(notebook_name)"
   ]
  },
  {
   "cell_type": "code",
   "execution_count": null,
   "metadata": {
    "id": "nv10MSnO4ZA1"
   },
   "outputs": [],
   "source": []
  }
 ],
 "metadata": {
  "colab": {
   "provenance": []
  },
  "kernelspec": {
   "display_name": "Python 3",
   "name": "python3"
  },
  "language_info": {
   "name": "python"
  }
 },
 "nbformat": 4,
 "nbformat_minor": 0
}
